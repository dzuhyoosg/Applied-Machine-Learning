{
  "nbformat": 4,
  "nbformat_minor": 0,
  "metadata": {
    "colab": {
      "name": "cs5785_hw2.ipynb",
      "provenance": [],
      "collapsed_sections": [],
      "toc_visible": true
    },
    "kernelspec": {
      "name": "python3",
      "display_name": "Python 3"
    }
  },
  "cells": [
    {
      "cell_type": "markdown",
      "metadata": {
        "id": "vognPruY_f5S"
      },
      "source": [
        "Tianyou Xiao (tx43), Ziyu Song (zs363)\n",
        "\n",
        "CS 5785 HW 2"
      ]
    },
    {
      "cell_type": "code",
      "metadata": {
        "id": "74WfXBg66FoM",
        "outputId": "bf43e1fc-efd3-4a74-e0d6-1383dcc69092",
        "colab": {
          "base_uri": "https://localhost:8080/",
          "height": 89
        }
      },
      "source": [
        "import pandas as pd\n",
        "import numpy as np\n",
        "import matplotlib.pyplot as plt\n",
        "\n",
        "import re\n",
        "import string\n",
        "import random\n",
        "import warnings\n",
        "warnings.filterwarnings(\"ignore\")\n",
        "\n",
        "import nltk\n",
        "nltk.download('punkt')\n",
        "import nltk\n",
        "nltk.download('wordnet')\n",
        "\n",
        "from nltk.stem import WordNetLemmatizer\n",
        "from nltk.tokenize import word_tokenize\n",
        "\n",
        "from sklearn.model_selection import train_test_split\n",
        "from sklearn.feature_extraction.text import CountVectorizer\n",
        "from sklearn.naive_bayes import GaussianNB\n",
        "from sklearn.linear_model import LogisticRegression\n",
        "from sklearn.metrics import f1_score\n",
        "from sklearn.svm import SVC, LinearSVC\n",
        "\n",
        "from collections import defaultdict\n",
        "\n",
        "%matplotlib inline"
      ],
      "execution_count": null,
      "outputs": [
        {
          "output_type": "stream",
          "text": [
            "[nltk_data] Downloading package punkt to /root/nltk_data...\n",
            "[nltk_data]   Package punkt is already up-to-date!\n",
            "[nltk_data] Downloading package wordnet to /root/nltk_data...\n",
            "[nltk_data]   Package wordnet is already up-to-date!\n"
          ],
          "name": "stdout"
        }
      ]
    },
    {
      "cell_type": "code",
      "metadata": {
        "id": "qATk-gPd_l6T"
      },
      "source": [
        "url_train = 'https://raw.githubusercontent.com/dzuhyoosg/Applied-Machine-Learning/master/homework2/nlp-getting-started/train.csv'\n",
        "url_test = 'https://raw.githubusercontent.com/dzuhyoosg/Applied-Machine-Learning/master/homework2/nlp-getting-started/test.csv'\n",
        "\n",
        "train = pd.read_csv(url_train)\n",
        "test = pd.read_csv(url_test)"
      ],
      "execution_count": null,
      "outputs": []
    },
    {
      "cell_type": "code",
      "metadata": {
        "id": "ZUrFAsYpABS_",
        "outputId": "616d00ac-e697-4243-9e76-32ff060a216e",
        "colab": {
          "base_uri": "https://localhost:8080/",
          "height": 240
        }
      },
      "source": [
        "print(train.shape)\n",
        "print(test.shape)\n",
        "train.head()"
      ],
      "execution_count": null,
      "outputs": [
        {
          "output_type": "stream",
          "text": [
            "(7613, 5)\n",
            "(3263, 4)\n"
          ],
          "name": "stdout"
        },
        {
          "output_type": "execute_result",
          "data": {
            "text/html": [
              "<div>\n",
              "<style scoped>\n",
              "    .dataframe tbody tr th:only-of-type {\n",
              "        vertical-align: middle;\n",
              "    }\n",
              "\n",
              "    .dataframe tbody tr th {\n",
              "        vertical-align: top;\n",
              "    }\n",
              "\n",
              "    .dataframe thead th {\n",
              "        text-align: right;\n",
              "    }\n",
              "</style>\n",
              "<table border=\"1\" class=\"dataframe\">\n",
              "  <thead>\n",
              "    <tr style=\"text-align: right;\">\n",
              "      <th></th>\n",
              "      <th>id</th>\n",
              "      <th>keyword</th>\n",
              "      <th>location</th>\n",
              "      <th>text</th>\n",
              "      <th>target</th>\n",
              "    </tr>\n",
              "  </thead>\n",
              "  <tbody>\n",
              "    <tr>\n",
              "      <th>0</th>\n",
              "      <td>1</td>\n",
              "      <td>NaN</td>\n",
              "      <td>NaN</td>\n",
              "      <td>Our Deeds are the Reason of this #earthquake M...</td>\n",
              "      <td>1</td>\n",
              "    </tr>\n",
              "    <tr>\n",
              "      <th>1</th>\n",
              "      <td>4</td>\n",
              "      <td>NaN</td>\n",
              "      <td>NaN</td>\n",
              "      <td>Forest fire near La Ronge Sask. Canada</td>\n",
              "      <td>1</td>\n",
              "    </tr>\n",
              "    <tr>\n",
              "      <th>2</th>\n",
              "      <td>5</td>\n",
              "      <td>NaN</td>\n",
              "      <td>NaN</td>\n",
              "      <td>All residents asked to 'shelter in place' are ...</td>\n",
              "      <td>1</td>\n",
              "    </tr>\n",
              "    <tr>\n",
              "      <th>3</th>\n",
              "      <td>6</td>\n",
              "      <td>NaN</td>\n",
              "      <td>NaN</td>\n",
              "      <td>13,000 people receive #wildfires evacuation or...</td>\n",
              "      <td>1</td>\n",
              "    </tr>\n",
              "    <tr>\n",
              "      <th>4</th>\n",
              "      <td>7</td>\n",
              "      <td>NaN</td>\n",
              "      <td>NaN</td>\n",
              "      <td>Just got sent this photo from Ruby #Alaska as ...</td>\n",
              "      <td>1</td>\n",
              "    </tr>\n",
              "  </tbody>\n",
              "</table>\n",
              "</div>"
            ],
            "text/plain": [
              "   id keyword  ...                                               text target\n",
              "0   1     NaN  ...  Our Deeds are the Reason of this #earthquake M...      1\n",
              "1   4     NaN  ...             Forest fire near La Ronge Sask. Canada      1\n",
              "2   5     NaN  ...  All residents asked to 'shelter in place' are ...      1\n",
              "3   6     NaN  ...  13,000 people receive #wildfires evacuation or...      1\n",
              "4   7     NaN  ...  Just got sent this photo from Ruby #Alaska as ...      1\n",
              "\n",
              "[5 rows x 5 columns]"
            ]
          },
          "metadata": {
            "tags": []
          },
          "execution_count": 3
        }
      ]
    },
    {
      "cell_type": "code",
      "metadata": {
        "id": "WQjru94WM8zh",
        "outputId": "ecbeef47-ada0-4373-eabf-240cb1414a82",
        "colab": {
          "base_uri": "https://localhost:8080/",
          "height": 71
        }
      },
      "source": [
        "train.target.value_counts() # denotes whether a tweet is about a real disaster (1) or not (0)"
      ],
      "execution_count": null,
      "outputs": [
        {
          "output_type": "execute_result",
          "data": {
            "text/plain": [
              "0    4342\n",
              "1    3271\n",
              "Name: target, dtype: int64"
            ]
          },
          "metadata": {
            "tags": []
          },
          "execution_count": 4
        }
      ]
    },
    {
      "cell_type": "code",
      "metadata": {
        "id": "O065IJgyOYJ5",
        "outputId": "fd91655a-26a5-48c3-afd9-72cfe0509d6e",
        "colab": {
          "base_uri": "https://localhost:8080/",
          "height": 35
        }
      },
      "source": [
        "df = pd.concat([train, test])\n",
        "print(df.shape)"
      ],
      "execution_count": null,
      "outputs": [
        {
          "output_type": "stream",
          "text": [
            "(10876, 5)\n"
          ],
          "name": "stdout"
        }
      ]
    },
    {
      "cell_type": "markdown",
      "metadata": {
        "id": "LEedRL4UNBaj"
      },
      "source": [
        "### (c) Preprocess the Data \n",
        "FYI: I switched the order of (b) and (c)"
      ]
    },
    {
      "cell_type": "code",
      "metadata": {
        "id": "Wt97AYMuOdBW"
      },
      "source": [
        "# source: https://www.kaggle.com/shahules/basic-eda-cleaning-and-glove#Data-Cleaning\n",
        "# remove urls\n",
        "def remove_URL(text):\n",
        "  url = re.compile(r'https?://\\S+|www\\.\\S+')\n",
        "  return url.sub(r'', text)\n",
        "\n",
        "# remove HTML tags\n",
        "def remove_html(text): \n",
        "  html = re.compile(r'<.*?>')\n",
        "  return html.sub(r'', text)\n",
        "\n",
        "# remove punctuations\n",
        "def remove_punct(text): \n",
        "  punct = str.maketrans('','',string.punctuation)\n",
        "  return text.translate(punct)\n",
        "\n",
        "# remove emojis\n",
        "# reference: https://gist.github.com/slowkow/7a7f61f495e3dbb7e3d767f97bd7304b\n",
        "def remove_emoji(text):\n",
        "  emoji_pattern = re.compile(\"[\"\n",
        "                           u\"\\U0001F600-\\U0001F64F\"  # emoticons\n",
        "                           u\"\\U0001F300-\\U0001F5FF\"  # symbols & pictographs\n",
        "                           u\"\\U0001F680-\\U0001F6FF\"  # transport & map symbols\n",
        "                           u\"\\U0001F1E0-\\U0001F1FF\"  # flags (iOS)\n",
        "                           u\"\\U00002702-\\U000027B0\"\n",
        "                           u\"\\U000024C2-\\U0001F251\"\n",
        "                           \"]+\", flags=re.UNICODE)\n",
        "  return emoji_pattern.sub(r'', text)\n",
        "\n",
        "df['text'] = df['text'].str.lower() # convert words to lowercase\n",
        "df['text'] = df['text'].apply(lambda x : remove_URL(x))\n",
        "df['text'] = df['text'].apply(lambda x : remove_html(x))\n",
        "df['text'] = df['text'].apply(lambda x : remove_punct(x))\n",
        "df['text'] = df['text'].apply(lambda x : remove_emoji(x))"
      ],
      "execution_count": null,
      "outputs": []
    },
    {
      "cell_type": "code",
      "metadata": {
        "id": "LJx6wqpefhQS"
      },
      "source": [
        "# tokenization\n",
        "df['text'] = df['text'].apply(lambda x : word_tokenize(x))\n",
        "\n",
        "# lemmatizing\n",
        "def lemmatizing(words): \n",
        "  lemmatizer = WordNetLemmatizer()\n",
        "  return [lemmatizer.lemmatize(word) for word in words]\n",
        "\n",
        "df['text'] = df['text'].apply(lambda x : lemmatizing(x))\n",
        "\n",
        "def final_text(words): \n",
        "  return ' '.join(words)\n",
        "\n",
        "df['text'] = df['text'].apply(lambda x : final_text(x))"
      ],
      "execution_count": null,
      "outputs": []
    },
    {
      "cell_type": "code",
      "metadata": {
        "id": "xT_IIal_hd8K",
        "outputId": "3ef36dab-28e4-4392-b846-3b454155d4ef",
        "colab": {
          "base_uri": "https://localhost:8080/",
          "height": 269
        }
      },
      "source": [
        "print(df)"
      ],
      "execution_count": null,
      "outputs": [
        {
          "output_type": "stream",
          "text": [
            "         id keyword  ...                                               text target\n",
            "0         1     NaN  ...  our deed are the reason of this earthquake may...    1.0\n",
            "1         4     NaN  ...              forest fire near la ronge sask canada    1.0\n",
            "2         5     NaN  ...  all resident asked to shelter in place are bei...    1.0\n",
            "3         6     NaN  ...  13000 people receive wildfire evacuation order...    1.0\n",
            "4         7     NaN  ...  just got sent this photo from ruby alaska a sm...    1.0\n",
            "...     ...     ...  ...                                                ...    ...\n",
            "3258  10861     NaN  ...  earthquake safety los angeles ûò safety faste...    NaN\n",
            "3259  10865     NaN  ...  storm in ri worse than last hurricane my citya...    NaN\n",
            "3260  10868     NaN  ...                   green line derailment in chicago    NaN\n",
            "3261  10874     NaN  ...            meg issue hazardous weather outlook hwo    NaN\n",
            "3262  10875     NaN  ...  cityofcalgary ha activated it municipal emerge...    NaN\n",
            "\n",
            "[10876 rows x 5 columns]\n"
          ],
          "name": "stdout"
        }
      ]
    },
    {
      "cell_type": "code",
      "metadata": {
        "id": "yKWLB6uZLtux",
        "outputId": "4ddfa0b6-7109-4254-b472-70495626a05f",
        "colab": {
          "base_uri": "https://localhost:8080/",
          "height": 71
        }
      },
      "source": [
        "# (b)\n",
        "X_train, X_test, y_train, y_test = train_test_split(df[:train.shape[0]], df[:train.shape[0]]['target'].values, test_size = 0.3, random_state=42)\n",
        "print(\"Shape of train: \", X_train.shape)\n",
        "print(\"Shape of validation: \", X_test.shape)\n",
        "print(\"length of X_train: %d, X_text: %d, y_train: %d, y_test: %d\" % (len(X_train), len(X_test), len(y_train), len(y_test)))"
      ],
      "execution_count": null,
      "outputs": [
        {
          "output_type": "stream",
          "text": [
            "Shape of train:  (5329, 5)\n",
            "Shape of validation:  (2284, 5)\n",
            "length of X_train: 5329, X_text: 2284, y_train: 5329, y_test: 2284\n"
          ],
          "name": "stdout"
        }
      ]
    },
    {
      "cell_type": "markdown",
      "metadata": {
        "id": "y7gGCcAW6423"
      },
      "source": [
        "### (e) Implement a naive Bayes classifier\n",
        "\n",
        "FYI: I switched the order of (d) and (e)"
      ]
    },
    {
      "cell_type": "code",
      "metadata": {
        "id": "jj8YuhjLRdp-"
      },
      "source": [
        "def nb_predictions(x, psis, phis):\n",
        "  \"\"\"\n",
        "  This returns class assignments and scores under the NB model.\n",
        "  We compute \\arg\\max_y p(y|x) as \\arg\\max_y p(x|y)p(y)\n",
        "  \"\"\"\n",
        "  # adjust shapes\n",
        "  n, d = x.shape\n",
        "  x = np.reshape(x, (1, n, d))\n",
        "  K = 2\n",
        "  psis = np.reshape(psis, (K, 1, d))\n",
        "  \n",
        "  # clip probabilities to avoid log(0)\n",
        "  psis = psis.clip(1e-14, 1-1e-14)\n",
        "  \n",
        "  # compute log-probabilities\n",
        "  logpy = np.log(phis).reshape([K,1])\n",
        "  logpxy = x * np.log(psis) + (1-x) * np.log(1-psis)\n",
        "  logpyx = logpxy.sum(axis=2) + logpy\n",
        "\n",
        "  return logpyx.argmax(axis=0).flatten(), logpyx.reshape([K,n])"
      ],
      "execution_count": null,
      "outputs": []
    },
    {
      "cell_type": "markdown",
      "metadata": {
        "id": "puTZBsL07tkC"
      },
      "source": [
        "### (d) Bag of Words Model (BoW)"
      ]
    },
    {
      "cell_type": "code",
      "metadata": {
        "id": "nItNgNQiJ_FB",
        "outputId": "188a33c5-db5f-4c32-8bd2-be4922878389",
        "colab": {
          "base_uri": "https://localhost:8080/",
          "height": 449
        }
      },
      "source": [
        "# (d) Bag of Words Model (BoW)\n",
        "for i in range(1, 7): \n",
        "  print(\"min_df =\", i)\n",
        "  vectorizer = CountVectorizer(binary=True, min_df=i)\n",
        "  features_train = vectorizer.fit_transform(X_train['text']).toarray()\n",
        "  features_test = vectorizer.transform(X_test['text']).toarray()\n",
        "  vocab = vectorizer.get_feature_names()\n",
        "  print(\"size of vocabulary:\", len(vocab))\n",
        "  # reference: code from lecture 8\n",
        "  n = features_train.shape[0] # size of the dataset\n",
        "  d = features_train.shape[1] # number of features in our dataset\n",
        "  K = 2 # number of clases\n",
        "\n",
        "  # these are the shapes of the parameters\n",
        "  psis = np.zeros([K,d])\n",
        "  phis = np.zeros([K])\n",
        "\n",
        "  # we now compute the parameters\n",
        "  for k in range(K): \n",
        "    X_k = features_train[y_train == k]\n",
        "    psis[k] = np.mean(X_k, axis=0)\n",
        "    phis[k] = X_k.shape[0] / float(n)\n",
        "\n",
        "  y_pred_train, logpyx_train = nb_predictions(features_train, psis, phis)\n",
        "  # F1-score on train\n",
        "  f1_train = f1_score(y_train, y_pred_train)\n",
        "  print(\"f1 score on train set: %f \" % f1_train)\n",
        "\n",
        "  y_pred_test, logpyx__test = nb_predictions(features_test, psis, phis)\n",
        "  # F1-score on test\n",
        "  f1_test = f1_score(y_test, y_pred_test)\n",
        "  print(\"f1 score on test set: %f \" % f1_test)"
      ],
      "execution_count": null,
      "outputs": [
        {
          "output_type": "stream",
          "text": [
            "min_df = 1\n",
            "size of vocabulary: 13187\n",
            "f1 score on train set: 0.965954 \n",
            "f1 score on test set: 0.711230 \n",
            "min_df = 2\n",
            "size of vocabulary: 4754\n",
            "f1 score on train set: 0.866621 \n",
            "f1 score on test set: 0.729270 \n",
            "min_df = 3\n",
            "size of vocabulary: 3197\n",
            "f1 score on train set: 0.832793 \n",
            "f1 score on test set: 0.747778 \n",
            "min_df = 4\n",
            "size of vocabulary: 2476\n",
            "f1 score on train set: 0.819824 \n",
            "f1 score on test set: 0.749443 \n",
            "min_df = 5\n",
            "size of vocabulary: 2040\n",
            "f1 score on train set: 0.809249 \n",
            "f1 score on test set: 0.747913 \n",
            "min_df = 6\n",
            "size of vocabulary: 1753\n",
            "f1 score on train set: 0.802601 \n",
            "f1 score on test set: 0.743719 \n"
          ],
          "name": "stdout"
        }
      ]
    },
    {
      "cell_type": "markdown",
      "metadata": {
        "id": "V3nfH3N46mPf"
      },
      "source": [
        "### (f) Logistic regression prediction"
      ]
    },
    {
      "cell_type": "code",
      "metadata": {
        "id": "oW-Eys3SLGhK",
        "outputId": "5483373e-0381-4cf2-bbfd-a5f5988ad9b4",
        "colab": {
          "base_uri": "https://localhost:8080/",
          "height": 35
        }
      },
      "source": [
        "from sklearn.linear_model import LogisticRegression\n",
        "clf = LogisticRegression()\n",
        "clf.fit(features_train, y_train)\n",
        "y_predicted_counts = clf.predict(features_test)\n",
        "\n",
        "f1_lr = f1_score(y_test, y_predicted_counts)\n",
        "print(\"F1 score of lr on test: %f \" % f1_lr)"
      ],
      "execution_count": null,
      "outputs": [
        {
          "output_type": "stream",
          "text": [
            "F1 score of lr on test: 0.756816 \n"
          ],
          "name": "stdout"
        }
      ]
    },
    {
      "cell_type": "code",
      "metadata": {
        "id": "bhqGj72eACLe",
        "outputId": "99bd66c1-22dd-4761-d096-b3c18291263e",
        "colab": {
          "base_uri": "https://localhost:8080/",
          "height": 53
        }
      },
      "source": [
        "# inspect coefficient\n",
        "clf.coef_[0]"
      ],
      "execution_count": null,
      "outputs": [
        {
          "output_type": "execute_result",
          "data": {
            "text/plain": [
              "array([0.35320103, 0.0510567 , 0.04789272, ..., 0.09281416, 1.00488798,\n",
              "       0.08105375])"
            ]
          },
          "metadata": {
            "tags": []
          },
          "execution_count": 13
        }
      ]
    },
    {
      "cell_type": "code",
      "metadata": {
        "id": "mezUAHEHm7Qf",
        "outputId": "ffff9389-6705-4c15-c39b-cbc6a0fc435a",
        "colab": {
          "base_uri": "https://localhost:8080/",
          "height": 197
        }
      },
      "source": [
        "# 10 most \"important\" keywords\n",
        "words_sort = np.argsort(np.abs(clf.coef_[0]))\n",
        "for i in np.flip(words_sort[-10:]): \n",
        "  print(vocab[i])"
      ],
      "execution_count": null,
      "outputs": [
        {
          "output_type": "stream",
          "text": [
            "hiroshima\n",
            "wildfire\n",
            "derailment\n",
            "earthquake\n",
            "drought\n",
            "tornado\n",
            "sinkhole\n",
            "spill\n",
            "murder\n",
            "massacre\n"
          ],
          "name": "stdout"
        }
      ]
    },
    {
      "cell_type": "markdown",
      "metadata": {
        "id": "g-CdukiiTpzf"
      },
      "source": [
        "### (g) Linear SVM prediction"
      ]
    },
    {
      "cell_type": "code",
      "metadata": {
        "id": "hOJNJS1Zt_4D",
        "outputId": "ee55e74a-a2b6-40b3-ce11-b1417a88258f",
        "colab": {
          "base_uri": "https://localhost:8080/",
          "height": 107
        }
      },
      "source": [
        "c_val = [0.01, 0.1, 1, 10.0, 100.0]\n",
        "f1_scores = []\n",
        "\n",
        "for c in c_val: \n",
        "  # clf_svm = SVC(C=c, kernel='linear', class_weight='balanced') # this optimizes the dual\n",
        "  clf_svm = LinearSVC(C=c) # this optimizes for the primal\n",
        "  clf_svm.fit(features_train, y_train)\n",
        "  y_predicted = clf_svm.predict(features_test)\n",
        "  f1_lsvm = f1_score(y_test, y_predicted)\n",
        "  f1_scores.append(f1_lsvm)\n",
        "  print(\"F1 score when c = {} is {} \".format(c, f1_lsvm))"
      ],
      "execution_count": null,
      "outputs": [
        {
          "output_type": "stream",
          "text": [
            "F1 score when c = 0.01 is 0.7439165701042875 \n",
            "F1 score when c = 0.1 is 0.7536865101037684 \n",
            "F1 score when c = 1 is 0.7286012526096033 \n",
            "F1 score when c = 10.0 is 0.6937531742001016 \n",
            "F1 score when c = 100.0 is 0.6686686686686687 \n"
          ],
          "name": "stdout"
        }
      ]
    },
    {
      "cell_type": "code",
      "metadata": {
        "id": "L55VV2JiRl8l",
        "outputId": "8a0c681c-43fa-4160-e053-0679df0273df",
        "colab": {
          "base_uri": "https://localhost:8080/",
          "height": 197
        }
      },
      "source": [
        "clf_svm = LinearSVC(C=0.1) # this optimizes for the primal\n",
        "clf_svm.fit(features_train, y_train)\n",
        "\n",
        "words_sort_svm = np.argsort(np.abs(clf_svm.coef_[0]))\n",
        "for i in np.flip(words_sort_svm[-10:]): \n",
        "  print(vocab[i])"
      ],
      "execution_count": null,
      "outputs": [
        {
          "output_type": "stream",
          "text": [
            "hiroshima\n",
            "earthquake\n",
            "wildfire\n",
            "derailment\n",
            "drought\n",
            "tornado\n",
            "sinkhole\n",
            "murder\n",
            "massacre\n",
            "catastrophic\n"
          ],
          "name": "stdout"
        }
      ]
    },
    {
      "cell_type": "code",
      "metadata": {
        "id": "nB7bahiv1cl6",
        "outputId": "a6d391a9-8a3a-4d00-b5b7-1f57a752d34c",
        "colab": {
          "base_uri": "https://localhost:8080/",
          "height": 531
        }
      },
      "source": [
        "plt.figure(figsize=(12, 8))\n",
        "plt.plot(c_val, f1_scores)\n",
        "plt.xlabel('c value')\n",
        "plt.ylabel('f1 score')\n",
        "plt.title('F1 score vs C value')"
      ],
      "execution_count": null,
      "outputs": [
        {
          "output_type": "execute_result",
          "data": {
            "text/plain": [
              "Text(0.5, 1.0, 'F1 score vs C value')"
            ]
          },
          "metadata": {
            "tags": []
          },
          "execution_count": 17
        },
        {
          "output_type": "display_data",
          "data": {
            "image/png": "[encoded data removed]",
            "text/plain": [
              "<Figure size 864x576 with 1 Axes>"
            ]
          },
          "metadata": {
            "tags": [],
            "needs_background": "light"
          }
        }
      ]
    },
    {
      "cell_type": "markdown",
      "metadata": {
        "id": "qcqLwpNJUEcM"
      },
      "source": [
        "### (h) Non-linear SVM prediction"
      ]
    },
    {
      "cell_type": "code",
      "metadata": {
        "id": "yn37CF7GuBR5",
        "outputId": "722617a7-d188-40ff-8d0d-2fcc4aa17cc4",
        "colab": {
          "base_uri": "https://localhost:8080/",
          "height": 621
        }
      },
      "source": [
        "f1_scores_nl = []\n",
        "\n",
        "for c in c_val: \n",
        "  clf_nsvm = SVC(C=c, kernel='rbf') # this optimizes the dual\n",
        "  clf_nsvm.fit(features_train, y_train)\n",
        "  y_predicted = clf_nsvm.predict(features_test)\n",
        "  f1_nlsp = f1_score(y_test, y_predicted) \n",
        "  f1_scores_nl.append(f1_nlsp)\n",
        "  print(\"F1 score when c = {} is {} \".format(c, f1_nlsp))\n",
        "\n",
        "plt.figure(figsize=(12, 8))\n",
        "plt.plot(c_val, f1_scores_nl)\n",
        "plt.xlabel('c value')\n",
        "plt.ylabel('f1 score')\n",
        "plt.title('F1 score vs C value')"
      ],
      "execution_count": null,
      "outputs": [
        {
          "output_type": "stream",
          "text": [
            "F1 score when c = 0.01 is 0.0 \n",
            "F1 score when c = 0.1 is 0.49180327868852464 \n",
            "F1 score when c = 1 is 0.745486313337216 \n",
            "F1 score when c = 10.0 is 0.7413509060955518 \n",
            "F1 score when c = 100.0 is 0.71875 \n"
          ],
          "name": "stdout"
        },
        {
          "output_type": "execute_result",
          "data": {
            "text/plain": [
              "Text(0.5, 1.0, 'F1 score vs C value')"
            ]
          },
          "metadata": {
            "tags": []
          },
          "execution_count": 18
        },
        {
          "output_type": "display_data",
          "data": {
            "image/png": "[encoded data removed]",
            "text/plain": [
              "<Figure size 864x576 with 1 Axes>"
            ]
          },
          "metadata": {
            "tags": [],
            "needs_background": "light"
          }
        }
      ]
    },
    {
      "cell_type": "markdown",
      "metadata": {
        "id": "4ZGDYkvgUKJc"
      },
      "source": [
        "### (i) N-gram model"
      ]
    },
    {
      "cell_type": "code",
      "metadata": {
        "id": "3pRPG2PPMJEG",
        "outputId": "4b555205-ba0d-47f9-a475-7ba8143dd08a",
        "colab": {
          "base_uri": "https://localhost:8080/",
          "height": 35
        }
      },
      "source": [
        "vectorizer_ngram = CountVectorizer(binary=True, ngram_range=(1,2), min_df=4) \n",
        "features_train_ngram = vectorizer_ngram.fit_transform(X_train['text']).toarray()\n",
        "features_test_ngram = vectorizer_ngram.transform(X_test['text']).toarray()\n",
        "\n",
        "vocab_ngram = vectorizer_ngram.get_feature_names()\n",
        "one_gram_idx, two_gram_idx = [], []\n",
        "for i in range(len(vocab_ngram)):\n",
        "    if len(vocab_ngram[i].split()) == 1:\n",
        "        one_gram_idx.append(i)\n",
        "    elif len(vocab_ngram[i].split()) == 2:\n",
        "        two_gram_idx.append(i)\n",
        "    else:\n",
        "        print(voc.split())\n",
        "print(len(one_gram_idx), len(two_gram_idx), len(vocab_ngram))"
      ],
      "execution_count": null,
      "outputs": [
        {
          "output_type": "stream",
          "text": [
            "2476 2125 4601\n"
          ],
          "name": "stdout"
        }
      ]
    },
    {
      "cell_type": "code",
      "metadata": {
        "id": "RzzJVc1vuCe9",
        "outputId": "bcf66968-9f1c-40df-ea70-78351575f4ed",
        "colab": {
          "base_uri": "https://localhost:8080/",
          "height": 197
        }
      },
      "source": [
        "[vocab_ngram[i] for i in random.sample(two_gram_idx, 10)]"
      ],
      "execution_count": null,
      "outputs": [
        {
          "output_type": "execute_result",
          "data": {
            "text/plain": [
              "['question is',\n",
              " 'offensive ûª',\n",
              " 'it the',\n",
              " 'from dannyonpc',\n",
              " 'im sorry',\n",
              " 'ie madinah',\n",
              " 'is hard',\n",
              " 'the effect',\n",
              " 'failure resulted',\n",
              " 'all in']"
            ]
          },
          "metadata": {
            "tags": []
          },
          "execution_count": 103
        }
      ]
    },
    {
      "cell_type": "code",
      "metadata": {
        "id": "VU_F6JY6UaaM",
        "outputId": "6103cee3-4875-41fd-c113-79713d54ef6f",
        "colab": {
          "base_uri": "https://localhost:8080/",
          "height": 53
        }
      },
      "source": [
        "# repeat (e)\n",
        "n_ngram = features_train_ngram.shape[0] # size of the dataset\n",
        "d_ngram = features_train_ngram.shape[1] # number of features in our dataset\n",
        "K = 2 # number of clases\n",
        "\n",
        "# these are the shapes of the parameters\n",
        "psis_ngram = np.zeros([K, d_ngram])\n",
        "phis_ngram = np.zeros([K])\n",
        "\n",
        "# we now compute the parameters\n",
        "for k in range(K): \n",
        "  X_k = features_train_ngram[y_train == k]\n",
        "  psis_ngram[k] = np.mean(X_k, axis=0)\n",
        "  phis_ngram[k] = X_k.shape[0] / float(n_ngram)\n",
        "\n",
        "\n",
        "y_pred_train, _ = nb_predictions(features_train_ngram, psis_ngram, phis_ngram)\n",
        "# F1-score\n",
        "f1_ngram = f1_score(y_train, y_pred_train)\n",
        "print(\"F1 score on train set: %f \" % f1_ngram)\n",
        "\n",
        "y_pred_ngram, _ = nb_predictions(features_test_ngram, psis_ngram, phis_ngram)\n",
        "# F1-score\n",
        "f1_ngram = f1_score(y_test, y_pred_ngram)\n",
        "print(\"F1 score on test set: %f \" % f1_ngram)"
      ],
      "execution_count": null,
      "outputs": [
        {
          "output_type": "stream",
          "text": [
            "F1 score on train set: 0.817941 \n",
            "F1 score on test set: 0.735673 \n"
          ],
          "name": "stdout"
        }
      ]
    },
    {
      "cell_type": "code",
      "metadata": {
        "id": "0Bun9JOferI5",
        "outputId": "6bed6b39-bf46-4040-9901-4195265b5bc3",
        "colab": {
          "base_uri": "https://localhost:8080/",
          "height": 35
        }
      },
      "source": [
        "# repeat (f)\n",
        "clf_ngram = LogisticRegression()\n",
        "clf_ngram.fit(features_train_ngram, y_train)\n",
        "y_predicted_counts = clf_ngram.predict(features_test_ngram)\n",
        "\n",
        "f1_lr = f1_score(y_test, y_predicted_counts)\n",
        "print(\"F1 score of lr on test: %f \" % f1_lr)"
      ],
      "execution_count": null,
      "outputs": [
        {
          "output_type": "stream",
          "text": [
            "F1 score of lr on test: 0.753973 \n"
          ],
          "name": "stdout"
        }
      ]
    },
    {
      "cell_type": "code",
      "metadata": {
        "id": "gZTz7CvQe908",
        "outputId": "281c6b49-dcd7-4a7d-de20-0efab007daa1",
        "colab": {
          "base_uri": "https://localhost:8080/",
          "height": 53
        }
      },
      "source": [
        "clf_ngram.coef_[0]"
      ],
      "execution_count": null,
      "outputs": [
        {
          "output_type": "execute_result",
          "data": {
            "text/plain": [
              "array([0.09310569, 0.20607172, 0.10177264, ..., 0.0638457 , 1.05885351,\n",
              "       0.06165673])"
            ]
          },
          "metadata": {
            "tags": []
          },
          "execution_count": 23
        }
      ]
    },
    {
      "cell_type": "code",
      "metadata": {
        "id": "-PKMDGwAe-s1",
        "outputId": "3497cd8a-218b-4f24-ed05-1b8225c3560a",
        "colab": {
          "base_uri": "https://localhost:8080/",
          "height": 197
        }
      },
      "source": [
        "words_sort = np.argsort(np.abs(clf_ngram.coef_[0]))\n",
        "for i in np.flip(words_sort[-10:]): \n",
        "  print(vocab_ngram[i])"
      ],
      "execution_count": null,
      "outputs": [
        {
          "output_type": "stream",
          "text": [
            "hiroshima\n",
            "wildfire\n",
            "earthquake\n",
            "derailment\n",
            "tornado\n",
            "drought\n",
            "flood\n",
            "killed\n",
            "massacre\n",
            "terrorism\n"
          ],
          "name": "stdout"
        }
      ]
    },
    {
      "cell_type": "code",
      "metadata": {
        "id": "7fm1lfdNfCjy",
        "outputId": "ac401792-d462-4e52-f09a-2aac647545c5",
        "colab": {
          "base_uri": "https://localhost:8080/",
          "height": 107
        }
      },
      "source": [
        "# repeat (g)\n",
        "f1_scores_lsvm_ngram = []\n",
        "\n",
        "for c in c_val: \n",
        "  # clf_svm = SVC(C=c, kernel='linear', class_weight='balanced') # this optimizes the dual\n",
        "  clf_svm_ngram = LinearSVC(C=c) # this optimizes for the primal\n",
        "  clf_svm_ngram.fit(features_train_ngram, y_train)\n",
        "  y_predicted = clf_svm_ngram.predict(features_test_ngram)\n",
        "  f1_lsvm = f1_score(y_test, y_predicted)\n",
        "  f1_scores_lsvm_ngram.append(f1_lsvm)\n",
        "  print(\"F1 score when c = {} is {} \".format(c, f1_lsvm))"
      ],
      "execution_count": null,
      "outputs": [
        {
          "output_type": "stream",
          "text": [
            "F1 score when c = 0.01 is 0.7365339578454332 \n",
            "F1 score when c = 0.1 is 0.7428571428571428 \n",
            "F1 score when c = 1 is 0.7008456659619451 \n",
            "F1 score when c = 10.0 is 0.6777202072538859 \n",
            "F1 score when c = 100.0 is 0.653555219364599 \n"
          ],
          "name": "stdout"
        }
      ]
    },
    {
      "cell_type": "code",
      "metadata": {
        "id": "8uLox2rOfN27",
        "outputId": "c6fcaae2-8342-4364-ab26-8b0b0aafc489",
        "colab": {
          "base_uri": "https://localhost:8080/",
          "height": 197
        }
      },
      "source": [
        "clf_svm_ngram = LinearSVC(C=0.1) # this optimizes for the primal\n",
        "clf_svm_ngram.fit(features_train_ngram, y_train)\n",
        "\n",
        "words_sort_svm = np.argsort(np.abs(clf_svm_ngram.coef_[0]))\n",
        "for i in np.flip(words_sort_svm[-10:]): \n",
        "  print(vocab_ngram[i])"
      ],
      "execution_count": null,
      "outputs": [
        {
          "output_type": "stream",
          "text": [
            "hiroshima\n",
            "earthquake\n",
            "wildfire\n",
            "derailment\n",
            "drought\n",
            "tornado\n",
            "flood\n",
            "terrorism\n",
            "killed\n",
            "cyclone\n"
          ],
          "name": "stdout"
        }
      ]
    },
    {
      "cell_type": "code",
      "metadata": {
        "id": "cVHU4ly2fTED",
        "outputId": "4183b12c-281e-4489-b36a-ba68ace4028c",
        "colab": {
          "base_uri": "https://localhost:8080/",
          "height": 531
        }
      },
      "source": [
        "plt.figure(figsize=(12, 8))\n",
        "plt.plot(c_val, f1_scores_lsvm_ngram)\n",
        "plt.xlabel('c value')\n",
        "plt.ylabel('f1 score')\n",
        "plt.title('F1 score vs C value')"
      ],
      "execution_count": null,
      "outputs": [
        {
          "output_type": "execute_result",
          "data": {
            "text/plain": [
              "Text(0.5, 1.0, 'F1 score vs C value')"
            ]
          },
          "metadata": {
            "tags": []
          },
          "execution_count": 27
        },
        {
          "output_type": "display_data",
          "data": {
            "image/png": "[encoded data removed]",
            "text/plain": [
              "<Figure size 864x576 with 1 Axes>"
            ]
          },
          "metadata": {
            "tags": [],
            "needs_background": "light"
          }
        }
      ]
    },
    {
      "cell_type": "code",
      "metadata": {
        "id": "wuhSssntfq7Q",
        "outputId": "51457d5d-b472-4eef-db79-a8122d12d81e",
        "colab": {
          "base_uri": "https://localhost:8080/",
          "height": 621
        }
      },
      "source": [
        "# repeat (h)\n",
        "f1_scores_nl_ngram = []\n",
        "\n",
        "for c in c_val: \n",
        "  clf_nsvm_ngram = SVC(C=c, kernel='rbf') # this optimizes the dual\n",
        "  clf_nsvm_ngram.fit(features_train_ngram, y_train)\n",
        "  y_predicted = clf_nsvm_ngram.predict(features_test_ngram)\n",
        "  f1_nlsp = f1_score(y_test, y_predicted) \n",
        "  f1_scores_nl_ngram.append(f1_nlsp)\n",
        "  print(\"F1 score when c = {} is {} \".format(c, f1_nlsp))\n",
        "\n",
        "plt.figure(figsize=(12, 8))\n",
        "plt.plot(c_val, f1_scores_nl_ngram)\n",
        "plt.xlabel('c value')\n",
        "plt.ylabel('f1 score')\n",
        "plt.title('F1 score vs C value')"
      ],
      "execution_count": null,
      "outputs": [
        {
          "output_type": "stream",
          "text": [
            "F1 score when c = 0.01 is 0.0 \n",
            "F1 score when c = 0.1 is 0.44356748224151527 \n",
            "F1 score when c = 1 is 0.7374036751630112 \n",
            "F1 score when c = 10.0 is 0.7371900826446282 \n",
            "F1 score when c = 100.0 is 0.7118463180362861 \n"
          ],
          "name": "stdout"
        },
        {
          "output_type": "execute_result",
          "data": {
            "text/plain": [
              "Text(0.5, 1.0, 'F1 score vs C value')"
            ]
          },
          "metadata": {
            "tags": []
          },
          "execution_count": 28
        },
        {
          "output_type": "display_data",
          "data": {
            "image/png": "[encoded data removed]",
            "text/plain": [
              "<Figure size 864x576 with 1 Axes>"
            ]
          },
          "metadata": {
            "tags": [],
            "needs_background": "light"
          }
        }
      ]
    },
    {
      "cell_type": "markdown",
      "metadata": {
        "id": "GcxnQss6MAA3"
      },
      "source": [
        "### (j) Incorporating the additional columns\n",
        "\n",
        "Use the BOW model"
      ]
    },
    {
      "cell_type": "code",
      "metadata": {
        "id": "DBi1XqMv3WOq"
      },
      "source": [
        "X_train_additional = X_train.copy()\n",
        "X_test_additional = X_test.copy()\n",
        "X_train_additional['combined_tweets'] = X_train['text']\n",
        "\n",
        "X_test_additional['combined_tweets'] = X_train['text']\n",
        "\n",
        "combined_tweets_train, combined_tweets_test = [], []\n",
        "\n",
        "for index, row in X_train.iterrows():\n",
        "  combined_tweet = row['text']\n",
        "  if not pd.isnull(row['location']):\n",
        "    combined_tweet = combined_tweet + ' ' + row['location'] + ' '\n",
        "  if not pd.isnull(row['location']):\n",
        "    combined_tweet += row['keyword']\n",
        "  combined_tweets_train.append(combined_tweet)\n",
        "\n",
        "for index, row in X_test.iterrows():\n",
        "  combined_tweet = row['text']\n",
        "  if not pd.isnull(row['location']):\n",
        "    combined_tweet = combined_tweet + ' ' + row['location'] + ' '\n",
        "  if not pd.isnull(row['location']):\n",
        "    combined_tweet += row['keyword']\n",
        "  combined_tweets_test.append(combined_tweet)\n",
        "\n",
        "X_train_additional['combined_tweets'] = combined_tweets_train\n",
        "X_test_additional['combined_tweets'] = combined_tweets_test\n",
        "\n",
        "X_train_additional['combined_tweets'] = X_train_additional['combined_tweets'].apply(lambda x : remove_punct(x))\n",
        "X_test_additional['combined_tweets'] = X_test_additional['combined_tweets'].apply(lambda x : remove_punct(x))"
      ],
      "execution_count": null,
      "outputs": []
    },
    {
      "cell_type": "code",
      "metadata": {
        "id": "NmeA2N7TsjYt",
        "outputId": "3d4effd1-5800-4d4d-b313-8896ea4baacf",
        "colab": {
          "base_uri": "https://localhost:8080/",
          "height": 89
        }
      },
      "source": [
        "M = 5\n",
        "print(\"min_df =\", M)\n",
        "vectorizer = CountVectorizer(binary=True, min_df=M)\n",
        "features_train_add = vectorizer.fit_transform(X_train_additional['combined_tweets']).toarray()\n",
        "features_test_add = vectorizer.transform(X_test_additional['combined_tweets']).toarray()\n",
        "vocab = vectorizer.get_feature_names()\n",
        "print(\"size of vocabulary:\", len(vocab))\n",
        "\n",
        "# reference: code from lecture 8\n",
        "n = features_train_add.shape[0] # size of the dataset\n",
        "d = features_train_add.shape[1] # number of features in our dataset\n",
        "K = 2 # number of clases\n",
        "\n",
        "# these are the shapes of the parameters\n",
        "psis = np.zeros([K,d])\n",
        "phis = np.zeros([K])\n",
        "\n",
        "# we now compute the parameters\n",
        "for k in range(K): \n",
        "  X_k = features_train_add[y_train == k]\n",
        "  psis[k] = np.mean(X_k, axis=0)\n",
        "  phis[k] = X_k.shape[0] / float(n)\n",
        "\n",
        "y_pred_train, logpyx_train = nb_predictions(features_train_add, psis, phis)\n",
        "# F1-score on train\n",
        "f1_train = f1_score(y_train, y_pred_train)\n",
        "print(\"f1 score on train set: %f \" % f1_train)\n",
        "\n",
        "y_pred_test, logpyx__test = nb_predictions(features_test_add, psis, phis)\n",
        "# F1-score on test\n",
        "f1_test = f1_score(y_test, y_pred_test)\n",
        "print(\"f1 score on test set: %f \" % f1_test)"
      ],
      "execution_count": null,
      "outputs": [
        {
          "output_type": "stream",
          "text": [
            "min_df = 5\n",
            "size of vocabulary: 2315\n",
            "f1 score on train set: 0.814473 \n",
            "f1 score on test set: 0.746814 \n"
          ],
          "name": "stdout"
        }
      ]
    },
    {
      "cell_type": "code",
      "metadata": {
        "id": "cBvL2EVNuFrB",
        "outputId": "9a8befb5-933a-4299-9e79-647fa7b280bd",
        "colab": {
          "base_uri": "https://localhost:8080/",
          "height": 215
        }
      },
      "source": [
        "# Logistic Regression\n",
        "clf = LogisticRegression()\n",
        "clf.fit(features_train_add, y_train)\n",
        "y_predicted_counts = clf.predict(features_test_add)\n",
        "\n",
        "f1_lr = f1_score(y_test, y_predicted_counts)\n",
        "print(\"F1 score of lr on test: %f \" % f1_lr)\n",
        "\n",
        "clf.coef_[0]\n",
        "\n",
        "words_sort = np.argsort(np.abs(clf.coef_[0]))\n",
        "for i in np.flip(words_sort[-10:]): \n",
        "  print(vocab[i])"
      ],
      "execution_count": null,
      "outputs": [
        {
          "output_type": "stream",
          "text": [
            "F1 score of lr on test: 0.745963 \n",
            "wildfire\n",
            "hiroshima\n",
            "drought\n",
            "derailment\n",
            "earthquake\n",
            "flood\n",
            "ky\n",
            "massacre\n",
            "tornado\n",
            "village\n"
          ],
          "name": "stdout"
        }
      ]
    },
    {
      "cell_type": "code",
      "metadata": {
        "id": "9tCghSU2oHWV",
        "outputId": "7cf26e18-f7ea-4af7-fdfe-ea6c784534e7",
        "colab": {
          "base_uri": "https://localhost:8080/",
          "height": 107
        }
      },
      "source": [
        "# Linear SVM\n",
        "f1_scores = []\n",
        "\n",
        "for c in c_val: \n",
        "  clf_svm = LinearSVC(C=c) # this optimizes for the primal\n",
        "  clf_svm.fit(features_train_add, y_train)\n",
        "  y_predicted = clf_svm.predict(features_test_add)\n",
        "  f1_lsvm = f1_score(y_test, y_predicted)\n",
        "  f1_scores.append(f1_lsvm)\n",
        "  print(\"F1 score when c = {} is {} \".format(c, f1_lsvm))"
      ],
      "execution_count": null,
      "outputs": [
        {
          "output_type": "stream",
          "text": [
            "F1 score when c = 0.01 is 0.7425287356321839 \n",
            "F1 score when c = 0.1 is 0.7462203023758099 \n",
            "F1 score when c = 1 is 0.7148760330578512 \n",
            "F1 score when c = 10.0 is 0.6860050890585242 \n",
            "F1 score when c = 100.0 is 0.6741116751269035 \n"
          ],
          "name": "stdout"
        }
      ]
    },
    {
      "cell_type": "code",
      "metadata": {
        "id": "JxWZEOTVobNO",
        "outputId": "25ee5468-77a3-4aac-b434-fd3ec410ec88",
        "colab": {
          "base_uri": "https://localhost:8080/",
          "height": 197
        }
      },
      "source": [
        "clf_svm = LinearSVC(C=0.1) # this optimizes for the primal\n",
        "clf_svm.fit(features_train_add, y_train)\n",
        "\n",
        "words_sort_svm = np.argsort(np.abs(clf_svm.coef_[0]))\n",
        "for i in np.flip(words_sort_svm[-10:]): \n",
        "  print(vocab[i])"
      ],
      "execution_count": null,
      "outputs": [
        {
          "output_type": "stream",
          "text": [
            "wildfire\n",
            "drought\n",
            "hiroshima\n",
            "earthquake\n",
            "derailment\n",
            "ky\n",
            "flood\n",
            "tornado\n",
            "massacre\n",
            "spill\n"
          ],
          "name": "stdout"
        }
      ]
    },
    {
      "cell_type": "code",
      "metadata": {
        "id": "Vrn1TYXCoVmq",
        "outputId": "33f73c3e-5e4b-46a6-c52a-5264934dbcde",
        "colab": {
          "base_uri": "https://localhost:8080/",
          "height": 531
        }
      },
      "source": [
        "plt.figure(figsize=(12, 8))\n",
        "plt.plot(c_val, f1_scores)\n",
        "plt.xlabel('c value')\n",
        "plt.ylabel('f1 score')\n",
        "plt.title('F1 score vs C value')"
      ],
      "execution_count": null,
      "outputs": [
        {
          "output_type": "execute_result",
          "data": {
            "text/plain": [
              "Text(0.5, 1.0, 'F1 score vs C value')"
            ]
          },
          "metadata": {
            "tags": []
          },
          "execution_count": 84
        },
        {
          "output_type": "display_data",
          "data": {
            "image/png": "[encoded data removed]",
            "text/plain": [
              "<Figure size 864x576 with 1 Axes>"
            ]
          },
          "metadata": {
            "tags": [],
            "needs_background": "light"
          }
        }
      ]
    },
    {
      "cell_type": "code",
      "metadata": {
        "id": "nrzEpBffrPZ5",
        "outputId": "c8dfa2da-626f-4ff4-c092-dac7702edc19",
        "colab": {
          "base_uri": "https://localhost:8080/",
          "height": 621
        }
      },
      "source": [
        "# Non-linear SVM\n",
        "f1_scores_nl = []\n",
        "\n",
        "for c in c_val: \n",
        "  clf_nsvm = SVC(C=c, kernel='rbf') # this optimizes the dual\n",
        "  clf_nsvm.fit(features_train_add, y_train)\n",
        "  y_predicted = clf_nsvm.predict(features_test_add)\n",
        "  f1_nlsp = f1_score(y_test, y_predicted) \n",
        "  f1_scores_nl.append(f1_nlsp)\n",
        "  print(\"F1 score when c = {} is {} \".format(c, f1_nlsp))\n",
        "\n",
        "plt.figure(figsize=(12, 8))\n",
        "plt.plot(c_val, f1_scores_nl)\n",
        "plt.xlabel('c value')\n",
        "plt.ylabel('f1 score')\n",
        "plt.title('F1 score vs C value')"
      ],
      "execution_count": null,
      "outputs": [
        {
          "output_type": "stream",
          "text": [
            "F1 score when c = 0.01 is 0.0 \n",
            "F1 score when c = 0.1 is 0.4513137557959814 \n",
            "F1 score when c = 1 is 0.7412993039443155 \n",
            "F1 score when c = 10.0 is 0.7370737073707371 \n",
            "F1 score when c = 100.0 is 0.7218614718614718 \n"
          ],
          "name": "stdout"
        },
        {
          "output_type": "execute_result",
          "data": {
            "text/plain": [
              "Text(0.5, 1.0, 'F1 score vs C value')"
            ]
          },
          "metadata": {
            "tags": []
          },
          "execution_count": 85
        },
        {
          "output_type": "display_data",
          "data": {
            "image/png": "[encoded data removed]",
            "text/plain": [
              "<Figure size 864x576 with 1 Axes>"
            ]
          },
          "metadata": {
            "tags": [],
            "needs_background": "light"
          }
        }
      ]
    },
    {
      "cell_type": "markdown",
      "metadata": {
        "id": "c5rWooaQsNCI"
      },
      "source": [
        "### (k) finalizing your model"
      ]
    },
    {
      "cell_type": "code",
      "metadata": {
        "id": "WxGL7PdJi20q",
        "outputId": "68d389ab-f895-4e94-8666-2ace5b4c27de",
        "colab": {
          "base_uri": "https://localhost:8080/",
          "height": 35
        }
      },
      "source": [
        "# choose logistic regression with min_df=4\n",
        "vectorizer = CountVectorizer(binary=True, min_df=4)\n",
        "features_train = vectorizer.fit_transform(train['text']).toarray()\n",
        "features_test = vectorizer.transform(test['text']).toarray()\n",
        "vocab = vectorizer.get_feature_names()\n",
        "print(\"size of vocabulary:\", len(vocab))\n",
        "\n",
        "clf = LogisticRegression()\n",
        "clf.fit(features_train, train['target'].values)\n",
        "y_predicted = clf.predict(features_test)"
      ],
      "execution_count": null,
      "outputs": [
        {
          "output_type": "stream",
          "text": [
            "size of vocabulary: 3423\n"
          ],
          "name": "stdout"
        }
      ]
    },
    {
      "cell_type": "code",
      "metadata": {
        "id": "VxnJeQ7TlkTA"
      },
      "source": [
        "# submission for logistic regression\n",
        "submission = pd.DataFrame(y_predicted, columns=['target'])\n",
        "submission['id'] = test['id']\n",
        "submission.set_index(submission['id'], inplace=True, drop=True)\n",
        "submission = submission.drop(['id'], axis=1)"
      ],
      "execution_count": null,
      "outputs": []
    },
    {
      "cell_type": "code",
      "metadata": {
        "id": "khlCDToHmeSc"
      },
      "source": [
        "submission.to_csv('submission.csv')"
      ],
      "execution_count": null,
      "outputs": []
    },
    {
      "cell_type": "code",
      "metadata": {
        "id": "VjMDFc06ohDa"
      },
      "source": [
        "# submission for nonlinear SVM with RBF\n",
        "\n",
        "clf_nsvm = SVC(C=1, kernel='rbf') # this optimizes the dual\n",
        "clf_nsvm.fit(features_train, train['target'].values)\n",
        "y_predicted = clf_nsvm.predict(features_test)\n",
        "\n",
        "submission = pd.DataFrame(y_predicted, columns=['target'])\n",
        "submission['id'] = test['id']\n",
        "submission.set_index(submission['id'], inplace=True, drop=True)\n",
        "submission = submission.drop(['id'], axis=1)"
      ],
      "execution_count": null,
      "outputs": []
    },
    {
      "cell_type": "code",
      "metadata": {
        "id": "5ivE4V9_NgJZ"
      },
      "source": [
        "submission.to_csv('submission.csv')"
      ],
      "execution_count": null,
      "outputs": []
    }
  ]
}